{
 "cells": [
  {
   "cell_type": "markdown",
   "id": "ad0419ed",
   "metadata": {},
   "source": [
    "# Practical 1"
   ]
  },
  {
   "cell_type": "markdown",
   "id": "8580e94f",
   "metadata": {},
   "source": [
    "# Demontrate array and matrix manipulation using Numpy library"
   ]
  },
  {
   "cell_type": "code",
   "execution_count": 1,
   "id": "76d516ab",
   "metadata": {},
   "outputs": [],
   "source": [
    "import numpy as np  #importing numpy dictionary as np."
   ]
  },
  {
   "cell_type": "code",
   "execution_count": 2,
   "id": "5f9fab7e",
   "metadata": {},
   "outputs": [
    {
     "name": "stdout",
     "output_type": "stream",
     "text": [
      "1.21.5\n"
     ]
    }
   ],
   "source": [
    "print (np.__version__)  #we are using this command to check the version of Anaconda."
   ]
  },
  {
   "cell_type": "code",
   "execution_count": 3,
   "id": "d09d6442",
   "metadata": {},
   "outputs": [],
   "source": [
    "ar1 = np.array(5)  #this command is used to create an array. This is an array of '0' dimension. It is called 0-D Array"
   ]
  },
  {
   "cell_type": "code",
   "execution_count": 4,
   "id": "a9bb2fb4",
   "metadata": {},
   "outputs": [
    {
     "name": "stdout",
     "output_type": "stream",
     "text": [
      "5\n"
     ]
    }
   ],
   "source": [
    "print (ar1)  #print the array."
   ]
  },
  {
   "cell_type": "code",
   "execution_count": 5,
   "id": "353393d5",
   "metadata": {},
   "outputs": [
    {
     "name": "stdout",
     "output_type": "stream",
     "text": [
      "<class 'numpy.ndarray'>\n"
     ]
    }
   ],
   "source": [
    "print(type(ar1))  #this is used to print the type of object."
   ]
  },
  {
   "cell_type": "code",
   "execution_count": 6,
   "id": "9fcc830b",
   "metadata": {
    "scrolled": true
   },
   "outputs": [
    {
     "name": "stdout",
     "output_type": "stream",
     "text": [
      "int32\n"
     ]
    }
   ],
   "source": [
    "print(ar1.dtype)  #this is used to print the type of layout of array."
   ]
  },
  {
   "cell_type": "code",
   "execution_count": 7,
   "id": "f0135f35",
   "metadata": {},
   "outputs": [],
   "source": [
    "ar2=np.array([1,2,3,4,5,6,7,8])  #create another array."
   ]
  },
  {
   "cell_type": "code",
   "execution_count": 8,
   "id": "a8011a18",
   "metadata": {},
   "outputs": [
    {
     "data": {
      "text/plain": [
       "8"
      ]
     },
     "execution_count": 8,
     "metadata": {},
     "output_type": "execute_result"
    }
   ],
   "source": [
    "np.size(ar2)  #check the size of of array i.e. number of elements."
   ]
  },
  {
   "cell_type": "code",
   "execution_count": 9,
   "id": "ed8ee484",
   "metadata": {},
   "outputs": [
    {
     "name": "stdout",
     "output_type": "stream",
     "text": [
      "[1 2 3 4 5 6 7 8]\n"
     ]
    }
   ],
   "source": [
    "print(ar2)  #obtain the output."
   ]
  },
  {
   "cell_type": "code",
   "execution_count": 10,
   "id": "fbd293c3",
   "metadata": {},
   "outputs": [
    {
     "name": "stdout",
     "output_type": "stream",
     "text": [
      "[4 5]\n"
     ]
    }
   ],
   "source": [
    "print (ar2[3:5])  #obtain output bt slicing."
   ]
  },
  {
   "cell_type": "code",
   "execution_count": 11,
   "id": "98833457",
   "metadata": {},
   "outputs": [
    {
     "name": "stdout",
     "output_type": "stream",
     "text": [
      "<class 'numpy.ndarray'>\n"
     ]
    }
   ],
   "source": [
    "print(type(ar2))  #this is used to print the type of object."
   ]
  },
  {
   "cell_type": "code",
   "execution_count": 12,
   "id": "04385953",
   "metadata": {},
   "outputs": [
    {
     "name": "stdout",
     "output_type": "stream",
     "text": [
      "<class 'numpy.int32'>\n"
     ]
    }
   ],
   "source": [
    "print(type(ar2[0]))  #this is used to print the type of particular item from the array."
   ]
  },
  {
   "cell_type": "code",
   "execution_count": 13,
   "id": "e07a5832",
   "metadata": {},
   "outputs": [
    {
     "name": "stdout",
     "output_type": "stream",
     "text": [
      "int32\n"
     ]
    }
   ],
   "source": [
    "print(ar2.dtype)  #this is used to print the type of layout of array."
   ]
  },
  {
   "cell_type": "code",
   "execution_count": 14,
   "id": "7d2704b6",
   "metadata": {},
   "outputs": [],
   "source": [
    "ar3=np.array([3.1,3.2,3.3,3.4,3.5,3.6,3.7])  #creating an 1-D Array"
   ]
  },
  {
   "cell_type": "code",
   "execution_count": 15,
   "id": "680b4839",
   "metadata": {},
   "outputs": [
    {
     "name": "stdout",
     "output_type": "stream",
     "text": [
      "[3.1 3.2 3.3 3.4 3.5 3.6 3.7]\n"
     ]
    }
   ],
   "source": [
    "print(ar3)  #printing the array"
   ]
  },
  {
   "cell_type": "code",
   "execution_count": 16,
   "id": "14d669e2",
   "metadata": {},
   "outputs": [
    {
     "data": {
      "text/plain": [
       "7"
      ]
     },
     "execution_count": 16,
     "metadata": {},
     "output_type": "execute_result"
    }
   ],
   "source": [
    "np.size(ar3)  #gives the size of array i.e. no of elements"
   ]
  },
  {
   "cell_type": "code",
   "execution_count": 17,
   "id": "7b2e492c",
   "metadata": {},
   "outputs": [
    {
     "name": "stdout",
     "output_type": "stream",
     "text": [
      "<class 'numpy.ndarray'>\n"
     ]
    }
   ],
   "source": [
    "print(type(ar3))  #this is used to print the type of object."
   ]
  },
  {
   "cell_type": "code",
   "execution_count": 18,
   "id": "b85cfea9",
   "metadata": {},
   "outputs": [
    {
     "name": "stdout",
     "output_type": "stream",
     "text": [
      "float64\n"
     ]
    }
   ],
   "source": [
    "print(ar3.dtype)  #this is used to print the type of layout of array."
   ]
  },
  {
   "cell_type": "code",
   "execution_count": 19,
   "id": "8f3d0bf1",
   "metadata": {},
   "outputs": [
    {
     "name": "stdout",
     "output_type": "stream",
     "text": [
      "<class 'numpy.float64'>\n"
     ]
    }
   ],
   "source": [
    "print(type(ar3[0]))  #this is used to print the type of object."
   ]
  },
  {
   "cell_type": "code",
   "execution_count": 20,
   "id": "5dd2ec37",
   "metadata": {},
   "outputs": [],
   "source": [
    "ar4=np.array([\"aniket\",\"anshul\"])  #creating an array whiich include strings"
   ]
  },
  {
   "cell_type": "code",
   "execution_count": 21,
   "id": "d8076762",
   "metadata": {},
   "outputs": [
    {
     "name": "stdout",
     "output_type": "stream",
     "text": [
      "<class 'numpy.ndarray'>\n"
     ]
    }
   ],
   "source": [
    "print(type(ar4))  #this is used to print the type of object."
   ]
  },
  {
   "cell_type": "code",
   "execution_count": 22,
   "id": "8db06358",
   "metadata": {},
   "outputs": [
    {
     "name": "stdout",
     "output_type": "stream",
     "text": [
      "<class 'numpy.str_'>\n"
     ]
    }
   ],
   "source": [
    "print(type(ar4[0]))  #this is used to print the type of element in object."
   ]
  },
  {
   "cell_type": "code",
   "execution_count": 23,
   "id": "61c9b016",
   "metadata": {},
   "outputs": [
    {
     "name": "stdout",
     "output_type": "stream",
     "text": [
      "<U6\n"
     ]
    }
   ],
   "source": [
    "print(ar4.dtype)  #this is used to print the type of layout of array."
   ]
  },
  {
   "cell_type": "code",
   "execution_count": 24,
   "id": "aa1102a6",
   "metadata": {},
   "outputs": [
    {
     "data": {
      "text/plain": [
       "2"
      ]
     },
     "execution_count": 24,
     "metadata": {},
     "output_type": "execute_result"
    }
   ],
   "source": [
    "np.size(ar4)  #check the size of of array i.e. number of elements."
   ]
  },
  {
   "cell_type": "code",
   "execution_count": 25,
   "id": "fb08f733",
   "metadata": {},
   "outputs": [],
   "source": [
    "ar5=np.array([[1,2,3],[4,5,6],[7,8,9]])  #creating a 2-D Array"
   ]
  },
  {
   "cell_type": "code",
   "execution_count": 26,
   "id": "3bf4b95a",
   "metadata": {},
   "outputs": [
    {
     "name": "stdout",
     "output_type": "stream",
     "text": [
      "['aniket' 'anshul']\n"
     ]
    }
   ],
   "source": [
    "print(ar4)  #printing the array"
   ]
  },
  {
   "cell_type": "code",
   "execution_count": 27,
   "id": "fedf8930",
   "metadata": {},
   "outputs": [
    {
     "name": "stdout",
     "output_type": "stream",
     "text": [
      "<class 'numpy.ndarray'>\n"
     ]
    }
   ],
   "source": [
    "print(type(ar5))  #this is used to print the type of object."
   ]
  },
  {
   "cell_type": "code",
   "execution_count": 28,
   "id": "112f7ca3",
   "metadata": {},
   "outputs": [
    {
     "name": "stdout",
     "output_type": "stream",
     "text": [
      "6\n"
     ]
    }
   ],
   "source": [
    "print(ar5[1,2])  #printing the element of array using indexing"
   ]
  },
  {
   "cell_type": "code",
   "execution_count": 29,
   "id": "e0ab774c",
   "metadata": {},
   "outputs": [
    {
     "data": {
      "text/plain": [
       "9"
      ]
     },
     "execution_count": 29,
     "metadata": {},
     "output_type": "execute_result"
    }
   ],
   "source": [
    "np.size(ar5)  #check the size of of array i.e. number of elements."
   ]
  },
  {
   "cell_type": "code",
   "execution_count": 30,
   "id": "25f5f769",
   "metadata": {},
   "outputs": [
    {
     "name": "stdout",
     "output_type": "stream",
     "text": [
      "9\n"
     ]
    }
   ],
   "source": [
    "print(ar5[2,2])  #printing the element of array using indexing"
   ]
  },
  {
   "cell_type": "code",
   "execution_count": 31,
   "id": "7d5d0822",
   "metadata": {},
   "outputs": [
    {
     "name": "stdout",
     "output_type": "stream",
     "text": [
      "int32\n"
     ]
    }
   ],
   "source": [
    "print(ar5.dtype)  #this is used to print the type of layout of array."
   ]
  },
  {
   "cell_type": "code",
   "execution_count": 32,
   "id": "f5911a22",
   "metadata": {},
   "outputs": [
    {
     "data": {
      "text/plain": [
       "()"
      ]
     },
     "execution_count": 32,
     "metadata": {},
     "output_type": "execute_result"
    }
   ],
   "source": [
    "ar1.shape  #get no. of rows and columns of the array."
   ]
  },
  {
   "cell_type": "code",
   "execution_count": 33,
   "id": "7eb282b6",
   "metadata": {},
   "outputs": [
    {
     "data": {
      "text/plain": [
       "(8,)"
      ]
     },
     "execution_count": 33,
     "metadata": {},
     "output_type": "execute_result"
    }
   ],
   "source": [
    "ar2.shape  #get no. of rows and columns of the array."
   ]
  },
  {
   "cell_type": "code",
   "execution_count": 34,
   "id": "d4054534",
   "metadata": {},
   "outputs": [
    {
     "data": {
      "text/plain": [
       "(7,)"
      ]
     },
     "execution_count": 34,
     "metadata": {},
     "output_type": "execute_result"
    }
   ],
   "source": [
    "ar3.shape  #get no. of rows and columns of the array."
   ]
  },
  {
   "cell_type": "code",
   "execution_count": 35,
   "id": "2e7b32f2",
   "metadata": {},
   "outputs": [
    {
     "data": {
      "text/plain": [
       "(2,)"
      ]
     },
     "execution_count": 35,
     "metadata": {},
     "output_type": "execute_result"
    }
   ],
   "source": [
    "ar4.shape  #get no. of rows and columns of the array."
   ]
  },
  {
   "cell_type": "code",
   "execution_count": 36,
   "id": "9578b6cd",
   "metadata": {},
   "outputs": [
    {
     "data": {
      "text/plain": [
       "(3, 3)"
      ]
     },
     "execution_count": 36,
     "metadata": {},
     "output_type": "execute_result"
    }
   ],
   "source": [
    "ar5.shape  #get no. of rows and columns of the array."
   ]
  },
  {
   "cell_type": "code",
   "execution_count": 37,
   "id": "2cbaa878",
   "metadata": {},
   "outputs": [
    {
     "name": "stderr",
     "output_type": "stream",
     "text": [
      "C:\\Users\\ANIKET KUMAR\\AppData\\Local\\Temp\\ipykernel_18032\\3224027040.py:1: VisibleDeprecationWarning: Creating an ndarray from ragged nested sequences (which is a list-or-tuple of lists-or-tuples-or ndarrays with different lengths or shapes) is deprecated. If you meant to do this, you must specify 'dtype=object' when creating the ndarray.\n",
      "  ar6=np.array([[1,2,],[3,4,5],[6,7,8,9]])\n"
     ]
    }
   ],
   "source": [
    "ar6=np.array([[1,2,],[3,4,5],[6,7,8,9]])"
   ]
  },
  {
   "cell_type": "code",
   "execution_count": 38,
   "id": "2bc839f4",
   "metadata": {},
   "outputs": [
    {
     "name": "stdout",
     "output_type": "stream",
     "text": [
      "[list([1, 2]) list([3, 4, 5]) list([6, 7, 8, 9])]\n"
     ]
    }
   ],
   "source": [
    "print(ar6)  #printing the array"
   ]
  },
  {
   "cell_type": "code",
   "execution_count": 39,
   "id": "97f8fe56",
   "metadata": {},
   "outputs": [
    {
     "name": "stdout",
     "output_type": "stream",
     "text": [
      "<class 'numpy.ndarray'>\n"
     ]
    }
   ],
   "source": [
    "print(type(ar6))  #this is used to print the type of object."
   ]
  },
  {
   "cell_type": "code",
   "execution_count": 40,
   "id": "e69a9be1",
   "metadata": {},
   "outputs": [
    {
     "name": "stdout",
     "output_type": "stream",
     "text": [
      "<class 'list'>\n"
     ]
    }
   ],
   "source": [
    "print(type(ar6[0]))  #this is used to print the type of element in object."
   ]
  },
  {
   "cell_type": "code",
   "execution_count": 41,
   "id": "b6bdf7fd",
   "metadata": {},
   "outputs": [
    {
     "data": {
      "text/plain": [
       "dtype('O')"
      ]
     },
     "execution_count": 41,
     "metadata": {},
     "output_type": "execute_result"
    }
   ],
   "source": [
    "ar6.dtype  #this is used to print the type of layout of array."
   ]
  },
  {
   "cell_type": "code",
   "execution_count": 42,
   "id": "d2853fcf",
   "metadata": {},
   "outputs": [
    {
     "data": {
      "text/plain": [
       "3"
      ]
     },
     "execution_count": 42,
     "metadata": {},
     "output_type": "execute_result"
    }
   ],
   "source": [
    "np.size(ar6)  #check the size of of array i.e. number of elements."
   ]
  },
  {
   "cell_type": "code",
   "execution_count": 43,
   "id": "a4088543",
   "metadata": {},
   "outputs": [
    {
     "data": {
      "text/plain": [
       "(3,)"
      ]
     },
     "execution_count": 43,
     "metadata": {},
     "output_type": "execute_result"
    }
   ],
   "source": [
    "ar6.shape  #get no. of rows and columns of the array."
   ]
  },
  {
   "cell_type": "code",
   "execution_count": 44,
   "id": "72f5a5a3",
   "metadata": {},
   "outputs": [
    {
     "name": "stderr",
     "output_type": "stream",
     "text": [
      "C:\\Users\\ANIKET KUMAR\\AppData\\Local\\Temp\\ipykernel_18032\\1336259499.py:1: VisibleDeprecationWarning: Creating an ndarray from ragged nested sequences (which is a list-or-tuple of lists-or-tuples-or ndarrays with different lengths or shapes) is deprecated. If you meant to do this, you must specify 'dtype=object' when creating the ndarray.\n",
      "  ar7=np.array([[1,2,],\"aniket\",[6,7,8,9]])\n"
     ]
    }
   ],
   "source": [
    "ar7=np.array([[1,2,],\"aniket\",[6,7,8,9]])"
   ]
  },
  {
   "cell_type": "code",
   "execution_count": 45,
   "id": "ea54a6ee",
   "metadata": {},
   "outputs": [
    {
     "name": "stdout",
     "output_type": "stream",
     "text": [
      "[list([1, 2]) 'aniket' list([6, 7, 8, 9])]\n"
     ]
    }
   ],
   "source": [
    "print(ar7)  #printing the array"
   ]
  },
  {
   "cell_type": "code",
   "execution_count": 46,
   "id": "7a948760",
   "metadata": {},
   "outputs": [
    {
     "name": "stderr",
     "output_type": "stream",
     "text": [
      "C:\\Users\\ANIKET KUMAR\\AppData\\Local\\Temp\\ipykernel_18032\\2423923415.py:1: VisibleDeprecationWarning: Creating an ndarray from ragged nested sequences (which is a list-or-tuple of lists-or-tuples-or ndarrays with different lengths or shapes) is deprecated. If you meant to do this, you must specify 'dtype=object' when creating the ndarray.\n",
      "  ar8=np.array([[[1,2,],[3,4,5],[6,7,8,9]],[[1,3],[2,4,5],[4,5,6,7]],[[2,3],[4,5,6],[4,5,6,7]]])\n"
     ]
    }
   ],
   "source": [
    "ar8=np.array([[[1,2,],[3,4,5],[6,7,8,9]],[[1,3],[2,4,5],[4,5,6,7]],[[2,3],[4,5,6],[4,5,6,7]]])"
   ]
  },
  {
   "cell_type": "code",
   "execution_count": 47,
   "id": "be913b36",
   "metadata": {},
   "outputs": [
    {
     "name": "stdout",
     "output_type": "stream",
     "text": [
      "[[list([1, 2]) list([3, 4, 5]) list([6, 7, 8, 9])]\n",
      " [list([1, 3]) list([2, 4, 5]) list([4, 5, 6, 7])]\n",
      " [list([2, 3]) list([4, 5, 6]) list([4, 5, 6, 7])]]\n"
     ]
    }
   ],
   "source": [
    "print(ar8)  #printing the array"
   ]
  },
  {
   "cell_type": "code",
   "execution_count": 48,
   "id": "d46f53ab",
   "metadata": {},
   "outputs": [],
   "source": [
    "ar9=np.array([[[1,2,],[3,4],[6,7]],[[1,3],[2,4],[4,5]],[[2,3],[4,5],[4,5]]])"
   ]
  },
  {
   "cell_type": "code",
   "execution_count": 49,
   "id": "8d0c7614",
   "metadata": {},
   "outputs": [
    {
     "name": "stdout",
     "output_type": "stream",
     "text": [
      "[[[1 2]\n",
      "  [3 4]\n",
      "  [6 7]]\n",
      "\n",
      " [[1 3]\n",
      "  [2 4]\n",
      "  [4 5]]\n",
      "\n",
      " [[2 3]\n",
      "  [4 5]\n",
      "  [4 5]]]\n"
     ]
    }
   ],
   "source": [
    "print(ar9)  #printing the array"
   ]
  },
  {
   "cell_type": "code",
   "execution_count": 50,
   "id": "7fd84e37",
   "metadata": {},
   "outputs": [
    {
     "data": {
      "text/plain": [
       "dtype('int32')"
      ]
     },
     "execution_count": 50,
     "metadata": {},
     "output_type": "execute_result"
    }
   ],
   "source": [
    "ar9.dtype  #this is used to print the type of layout of array."
   ]
  },
  {
   "cell_type": "code",
   "execution_count": 51,
   "id": "1b76029b",
   "metadata": {},
   "outputs": [
    {
     "data": {
      "text/plain": [
       "(3, 3, 2)"
      ]
     },
     "execution_count": 51,
     "metadata": {},
     "output_type": "execute_result"
    }
   ],
   "source": [
    "ar9.shape  #get no. of rows and columns of the array."
   ]
  },
  {
   "cell_type": "code",
   "execution_count": 52,
   "id": "b8a8f910",
   "metadata": {},
   "outputs": [
    {
     "name": "stdout",
     "output_type": "stream",
     "text": [
      "<class 'numpy.ndarray'>\n"
     ]
    }
   ],
   "source": [
    "print(type(ar9))  #this is used to print the type of object."
   ]
  },
  {
   "cell_type": "code",
   "execution_count": 53,
   "id": "0c3e9760",
   "metadata": {
    "scrolled": false
   },
   "outputs": [
    {
     "name": "stdout",
     "output_type": "stream",
     "text": [
      "<class 'numpy.ndarray'>\n"
     ]
    }
   ],
   "source": [
    "print(type(ar9[0]))  #this is used to print the type of element in object."
   ]
  },
  {
   "cell_type": "code",
   "execution_count": 54,
   "id": "50563786",
   "metadata": {},
   "outputs": [],
   "source": [
    "import numpy as np  #importing numpy dictionary as np."
   ]
  },
  {
   "cell_type": "code",
   "execution_count": 55,
   "id": "95060122",
   "metadata": {},
   "outputs": [],
   "source": [
    "arr2= np.array([[1,2,3,4],[5,6,7,8]])  #creating 2-D Array"
   ]
  },
  {
   "cell_type": "code",
   "execution_count": 56,
   "id": "ae61852b",
   "metadata": {},
   "outputs": [
    {
     "name": "stdout",
     "output_type": "stream",
     "text": [
      "4\n"
     ]
    }
   ],
   "source": [
    "print(arr2[0,3])  #retrieving single element using indexing"
   ]
  },
  {
   "cell_type": "code",
   "execution_count": 57,
   "id": "09c1e519",
   "metadata": {},
   "outputs": [
    {
     "name": "stdout",
     "output_type": "stream",
     "text": [
      "8\n"
     ]
    }
   ],
   "source": [
    "print(arr2[1,3])  #retrieving single element using indexing"
   ]
  },
  {
   "cell_type": "code",
   "execution_count": 58,
   "id": "1069bdf1",
   "metadata": {},
   "outputs": [],
   "source": [
    "arr3= np.array([[[1,2,3],[4,5,6]],[[7,8,9],[10,11,12]]])  #creating 3-D Array"
   ]
  },
  {
   "cell_type": "code",
   "execution_count": 59,
   "id": "fe39d0da",
   "metadata": {},
   "outputs": [
    {
     "name": "stdout",
     "output_type": "stream",
     "text": [
      "10\n"
     ]
    }
   ],
   "source": [
    "print(arr3[1,1,0])  #retrieving single element using indexing"
   ]
  },
  {
   "cell_type": "code",
   "execution_count": 60,
   "id": "d82afc09",
   "metadata": {},
   "outputs": [
    {
     "name": "stdout",
     "output_type": "stream",
     "text": [
      "5\n"
     ]
    }
   ],
   "source": [
    "print(arr3[0,1,1])  #retrieving single element using indexing"
   ]
  },
  {
   "cell_type": "code",
   "execution_count": 61,
   "id": "62b7c0f2",
   "metadata": {},
   "outputs": [],
   "source": [
    "arr2= np.array([[1,2,3,4],[5,6,7,8]])  #creating 2-D array"
   ]
  },
  {
   "cell_type": "code",
   "execution_count": 62,
   "id": "ee9ede0d",
   "metadata": {},
   "outputs": [
    {
     "name": "stdout",
     "output_type": "stream",
     "text": [
      "8\n"
     ]
    }
   ],
   "source": [
    "print(arr2[1,-1])    #retrieving single element using negative indexing"
   ]
  },
  {
   "cell_type": "code",
   "execution_count": 63,
   "id": "2e4f14a9",
   "metadata": {},
   "outputs": [],
   "source": [
    "arr = np.array([1,2,3,4,5,6,7])  #creating 1-D array"
   ]
  },
  {
   "cell_type": "code",
   "execution_count": 64,
   "id": "00c60076",
   "metadata": {},
   "outputs": [
    {
     "name": "stdout",
     "output_type": "stream",
     "text": [
      "[2 3 4 5]\n"
     ]
    }
   ],
   "source": [
    "print(arr[1 : 5])  #using slicing to print array"
   ]
  },
  {
   "cell_type": "code",
   "execution_count": 65,
   "id": "ab42ee07",
   "metadata": {},
   "outputs": [
    {
     "name": "stdout",
     "output_type": "stream",
     "text": [
      "[3 4 5 6 7]\n"
     ]
    }
   ],
   "source": [
    "print(arr[2:])  #using slicing to print array"
   ]
  },
  {
   "cell_type": "code",
   "execution_count": 66,
   "id": "71b2f73c",
   "metadata": {},
   "outputs": [
    {
     "name": "stdout",
     "output_type": "stream",
     "text": [
      "[5 6]\n"
     ]
    }
   ],
   "source": [
    "print(arr[4 : 6])  #using slicing to print array"
   ]
  },
  {
   "cell_type": "code",
   "execution_count": 67,
   "id": "896f4cec",
   "metadata": {},
   "outputs": [
    {
     "name": "stdout",
     "output_type": "stream",
     "text": [
      "[5 6]\n"
     ]
    }
   ],
   "source": [
    "print(arr[-3:-1])  #using negative slicing to print array"
   ]
  },
  {
   "cell_type": "code",
   "execution_count": 68,
   "id": "83d69610",
   "metadata": {},
   "outputs": [
    {
     "name": "stdout",
     "output_type": "stream",
     "text": [
      "[7 6 5 4 3 2 1]\n"
     ]
    }
   ],
   "source": [
    "print(arr[::-1])  #using slicing to print array"
   ]
  },
  {
   "cell_type": "code",
   "execution_count": 69,
   "id": "0e443cd5",
   "metadata": {},
   "outputs": [
    {
     "name": "stdout",
     "output_type": "stream",
     "text": [
      "[1 3 5 7]\n"
     ]
    }
   ],
   "source": [
    "print(arr[::2])  #using slicing to print array"
   ]
  },
  {
   "cell_type": "code",
   "execution_count": 70,
   "id": "4b111813",
   "metadata": {},
   "outputs": [
    {
     "name": "stdout",
     "output_type": "stream",
     "text": [
      "[2 4 6]\n"
     ]
    }
   ],
   "source": [
    "print(arr[1::2])  #using slicing to print array"
   ]
  },
  {
   "cell_type": "code",
   "execution_count": 71,
   "id": "4bb26ca2",
   "metadata": {},
   "outputs": [],
   "source": [
    "arr1= (np.arange(1,50,2,float))  #Creates an array by using the evenly spaced values over the given interval range."
   ]
  },
  {
   "cell_type": "code",
   "execution_count": 72,
   "id": "7b70b3e9",
   "metadata": {},
   "outputs": [
    {
     "name": "stdout",
     "output_type": "stream",
     "text": [
      "[ 1.  3.  5.  7.  9. 11. 13. 15. 17. 19. 21. 23. 25. 27. 29. 31. 33. 35.\n",
      " 37. 39. 41. 43. 45. 47. 49.]\n"
     ]
    }
   ],
   "source": [
    "print(arr1)"
   ]
  },
  {
   "cell_type": "code",
   "execution_count": 73,
   "id": "6fc00aac",
   "metadata": {},
   "outputs": [],
   "source": [
    "arr4= (np.arange(10,100.5,3.3,float))  #Creates an array by using the evenly spaced values over the given interval range."
   ]
  },
  {
   "cell_type": "code",
   "execution_count": 74,
   "id": "0553233e",
   "metadata": {},
   "outputs": [
    {
     "name": "stdout",
     "output_type": "stream",
     "text": [
      "[10.  13.3 16.6 19.9 23.2 26.5 29.8 33.1 36.4 39.7 43.  46.3 49.6 52.9\n",
      " 56.2 59.5 62.8 66.1 69.4 72.7 76.  79.3 82.6 85.9 89.2 92.5 95.8 99.1]\n"
     ]
    }
   ],
   "source": [
    "print(arr4)  #printing the array"
   ]
  },
  {
   "cell_type": "code",
   "execution_count": 75,
   "id": "8b0fd924",
   "metadata": {},
   "outputs": [],
   "source": [
    "arr5 = np.linspace(1,20,10)  #returns the evenly spaced values over the given interval."
   ]
  },
  {
   "cell_type": "code",
   "execution_count": 76,
   "id": "8ffe1f18",
   "metadata": {},
   "outputs": [
    {
     "name": "stdout",
     "output_type": "stream",
     "text": [
      "[ 1.          3.11111111  5.22222222  7.33333333  9.44444444 11.55555556\n",
      " 13.66666667 15.77777778 17.88888889 20.        ]\n"
     ]
    }
   ],
   "source": [
    "print(arr5)  #printing the array"
   ]
  },
  {
   "cell_type": "code",
   "execution_count": 77,
   "id": "f0f0d881",
   "metadata": {},
   "outputs": [],
   "source": [
    "arr6 = np.array([[1,12,3],[4,5,3]])  #creating 2-D Array"
   ]
  },
  {
   "cell_type": "code",
   "execution_count": 78,
   "id": "74e555b2",
   "metadata": {},
   "outputs": [
    {
     "name": "stdout",
     "output_type": "stream",
     "text": [
      "[ 4 12  3]\n"
     ]
    }
   ],
   "source": [
    "print(arr6.max(axis = 0)) #to find maximum element of the column elements"
   ]
  },
  {
   "cell_type": "code",
   "execution_count": 79,
   "id": "68ce53ca",
   "metadata": {},
   "outputs": [
    {
     "name": "stdout",
     "output_type": "stream",
     "text": [
      "[12  5]\n"
     ]
    }
   ],
   "source": [
    "print(arr6.max(axis = 1))  #to find maximum element of the row elements"
   ]
  },
  {
   "cell_type": "code",
   "execution_count": 80,
   "id": "0001fee5",
   "metadata": {},
   "outputs": [
    {
     "name": "stdout",
     "output_type": "stream",
     "text": [
      "[1 5 3]\n"
     ]
    }
   ],
   "source": [
    "print(arr6.min(axis = 0))  #to find minimum element of the column elements"
   ]
  },
  {
   "cell_type": "code",
   "execution_count": 81,
   "id": "d79b6fe2",
   "metadata": {},
   "outputs": [
    {
     "name": "stdout",
     "output_type": "stream",
     "text": [
      "[1 3]\n"
     ]
    }
   ],
   "source": [
    "print(arr6.min(axis = 1))  #to find maximum element of the row elements"
   ]
  },
  {
   "cell_type": "code",
   "execution_count": 82,
   "id": "f7695f8e",
   "metadata": {},
   "outputs": [
    {
     "name": "stdout",
     "output_type": "stream",
     "text": [
      "[ 5 17  6]\n"
     ]
    }
   ],
   "source": [
    "print(arr6.sum(axis = 0))  #to find the sum of all elements of the column"
   ]
  },
  {
   "cell_type": "code",
   "execution_count": 83,
   "id": "348efc5d",
   "metadata": {},
   "outputs": [
    {
     "name": "stdout",
     "output_type": "stream",
     "text": [
      "[1 3]\n"
     ]
    }
   ],
   "source": [
    "print(arr6.min(axis = 1))  #to find the sum of all elements of the row"
   ]
  },
  {
   "cell_type": "code",
   "execution_count": 84,
   "id": "963fbad7",
   "metadata": {},
   "outputs": [
    {
     "name": "stdout",
     "output_type": "stream",
     "text": [
      "12\n"
     ]
    }
   ],
   "source": [
    "print(arr6.max())  #gives the maximum value in the array"
   ]
  },
  {
   "cell_type": "code",
   "execution_count": 85,
   "id": "513205ae",
   "metadata": {},
   "outputs": [
    {
     "name": "stdout",
     "output_type": "stream",
     "text": [
      "1\n"
     ]
    }
   ],
   "source": [
    "print(arr6.min())  #gives the minimum value in the array"
   ]
  },
  {
   "cell_type": "code",
   "execution_count": 86,
   "id": "e360cc40",
   "metadata": {},
   "outputs": [
    {
     "name": "stdout",
     "output_type": "stream",
     "text": [
      "28\n"
     ]
    }
   ],
   "source": [
    "print(arr6.sum())  #gives the sum of all elements of value in the array"
   ]
  },
  {
   "cell_type": "code",
   "execution_count": 87,
   "id": "11504431",
   "metadata": {},
   "outputs": [],
   "source": [
    "arr7 = np.array([[7,16,3],[9,7,9]])  #creating 2-D Array"
   ]
  },
  {
   "cell_type": "code",
   "execution_count": 88,
   "id": "e837a820",
   "metadata": {},
   "outputs": [
    {
     "name": "stdout",
     "output_type": "stream",
     "text": [
      "[[2.64575131 4.         1.73205081]\n",
      " [3.         2.64575131 3.        ]]\n"
     ]
    }
   ],
   "source": [
    "print(np.sqrt(arr7))  #return the square root og the elements of array"
   ]
  },
  {
   "cell_type": "code",
   "execution_count": 89,
   "id": "4d7362bf",
   "metadata": {},
   "outputs": [],
   "source": [
    "arr8=np.array([[4,8,6],[8,9,6]])\n",
    "arr9=np.array([[76,9,4],[9,6,8]])\n"
   ]
  },
  {
   "cell_type": "code",
   "execution_count": 90,
   "id": "5889836c",
   "metadata": {},
   "outputs": [
    {
     "name": "stdout",
     "output_type": "stream",
     "text": [
      "[[80 17 10]\n",
      " [17 15 14]]\n"
     ]
    }
   ],
   "source": [
    "print(arr8+arr9)  #gives the sum of two array"
   ]
  },
  {
   "cell_type": "code",
   "execution_count": 91,
   "id": "0063fe0c",
   "metadata": {},
   "outputs": [
    {
     "name": "stdout",
     "output_type": "stream",
     "text": [
      "[[304  72  24]\n",
      " [ 72  54  48]]\n"
     ]
    }
   ],
   "source": [
    "print(arr8*arr9)  #gives the profuct of two array"
   ]
  },
  {
   "cell_type": "code",
   "execution_count": 92,
   "id": "3b027493",
   "metadata": {},
   "outputs": [
    {
     "name": "stdout",
     "output_type": "stream",
     "text": [
      "6.833333333333333\n"
     ]
    }
   ],
   "source": [
    "print(np.mean(arr8))  #gives the mean value of elements of array"
   ]
  },
  {
   "cell_type": "code",
   "execution_count": 93,
   "id": "6f3a3d2b",
   "metadata": {},
   "outputs": [
    {
     "name": "stdout",
     "output_type": "stream",
     "text": [
      "[6.  8.5 6. ]\n"
     ]
    }
   ],
   "source": [
    "print(np.mean(arr8,axis= 0))  #gives the mean value of elements of array column vise"
   ]
  },
  {
   "cell_type": "code",
   "execution_count": 94,
   "id": "96af54a3",
   "metadata": {},
   "outputs": [
    {
     "name": "stdout",
     "output_type": "stream",
     "text": [
      "[6.         7.66666667]\n"
     ]
    }
   ],
   "source": [
    "print(np.mean(arr8,axis= 1))  #gives the mean value of elements of array row vise"
   ]
  },
  {
   "cell_type": "code",
   "execution_count": 95,
   "id": "126923c1",
   "metadata": {},
   "outputs": [
    {
     "name": "stdout",
     "output_type": "stream",
     "text": [
      "[[0 0 0 0 0 0 0 0 0]\n",
      " [0 0 0 0 0 0 0 0 0]\n",
      " [0 0 0 0 0 0 0 0 0]\n",
      " [0 0 0 0 0 0 0 0 0]\n",
      " [0 0 0 0 0 0 0 0 0]\n",
      " [0 0 0 0 0 0 0 0 0]\n",
      " [0 0 0 0 0 0 0 0 0]\n",
      " [0 0 0 0 0 0 0 0 0]\n",
      " [0 0 0 0 0 0 0 0 0]]\n"
     ]
    }
   ],
   "source": [
    "arr10 = np.empty((9,9), dtype= int, order='c')\n",
    "print(arr10)  #This method creates an empty or uninitialized array of 9*9 which is row-major"
   ]
  },
  {
   "cell_type": "code",
   "execution_count": 96,
   "id": "335ed6f5",
   "metadata": {},
   "outputs": [
    {
     "name": "stdout",
     "output_type": "stream",
     "text": [
      "[[        -1          0          0          0 -640882144          0\n",
      "          15          0          0]\n",
      " [        -1 -502068752          0          7        469          0\n",
      "           0          1          0]\n",
      " [        -1      32762          0          0          3          0\n",
      "  -638315776          0          0]\n",
      " [        -1         -1          0          1          1 -638316032\n",
      "         469          0          0]\n",
      " [        -1          0        257          0 -709944272        469\n",
      "  -502555059          0          0]\n",
      " [        -1 -502068312       1000          0        469          0\n",
      "       32762          0          0]\n",
      " [-502068424      32762        500          0          5          0\n",
      "           0          0          0]\n",
      " [     32762          2         -1 -638216160          0          0\n",
      "           0          0          0]\n",
      " [         0          0         -1        469          1          0\n",
      "          15          0          0]]\n"
     ]
    }
   ],
   "source": [
    "arr10 = np.empty((9,9), dtype= int, order='f')\n",
    "print(arr10)  #This method creates an empty or uninitialized array of 9*9 which is column-major"
   ]
  },
  {
   "cell_type": "code",
   "execution_count": 97,
   "id": "2fd2f8fd",
   "metadata": {},
   "outputs": [
    {
     "name": "stdout",
     "output_type": "stream",
     "text": [
      "[[0 0 0 0 0 0 0 0 0]\n",
      " [0 0 0 0 0 0 0 0 0]\n",
      " [0 0 0 0 0 0 0 0 0]\n",
      " [0 0 0 0 0 0 0 0 0]\n",
      " [0 0 0 0 0 0 0 0 0]\n",
      " [0 0 0 0 0 0 0 0 0]\n",
      " [0 0 0 0 0 0 0 0 0]\n",
      " [0 0 0 0 0 0 0 0 0]\n",
      " [0 0 0 0 0 0 0 0 0]]\n"
     ]
    }
   ],
   "source": [
    "arr10 = np.zeros((9,9), dtype= int, order='f')\n",
    "print(arr10)  #Creates numpy array of 9*9 with each array element is initialized to 0"
   ]
  },
  {
   "cell_type": "code",
   "execution_count": 98,
   "id": "49b92f6c",
   "metadata": {},
   "outputs": [
    {
     "name": "stdout",
     "output_type": "stream",
     "text": [
      "[[1 1 1 1 1 1 1 1 1]\n",
      " [1 1 1 1 1 1 1 1 1]\n",
      " [1 1 1 1 1 1 1 1 1]\n",
      " [1 1 1 1 1 1 1 1 1]\n",
      " [1 1 1 1 1 1 1 1 1]\n",
      " [1 1 1 1 1 1 1 1 1]\n",
      " [1 1 1 1 1 1 1 1 1]\n",
      " [1 1 1 1 1 1 1 1 1]\n",
      " [1 1 1 1 1 1 1 1 1]]\n"
     ]
    }
   ],
   "source": [
    "arr11 = np.ones((9,9), dtype= int, order='f')\n",
    "print(arr11)  # Creates numpy array of 9*9 with each array element is initialized to 1"
   ]
  },
  {
   "cell_type": "code",
   "execution_count": 99,
   "id": "d0419324",
   "metadata": {},
   "outputs": [
    {
     "name": "stdout",
     "output_type": "stream",
     "text": [
      "1\n",
      "2\n",
      "3\n",
      "4\n",
      "5\n",
      "6\n",
      "7\n",
      "8\n",
      "9\n",
      "10\n"
     ]
    }
   ],
   "source": [
    "arr12= np.array([1,2,3,4,5,6,7,8,9,10])\n",
    "for i in arr12:\n",
    "    print(i)  #iteration in 1-D Array"
   ]
  },
  {
   "cell_type": "code",
   "execution_count": 100,
   "id": "5a35fa75",
   "metadata": {},
   "outputs": [
    {
     "name": "stdout",
     "output_type": "stream",
     "text": [
      "row 1  :  [1 2 3]\n",
      "row 2  :  [4 5 6]\n",
      "row 3  :  [7 8 9]\n"
     ]
    }
   ],
   "source": [
    "arr13= np.array([[1,2,3],[4,5,6],[7,8,9]])\n",
    "count : int=0\n",
    "for row in arr13:  #for loop to print each row of 2-D array\n",
    "    count = count+1\n",
    "    print(\"row\",count,\" : \", row)"
   ]
  },
  {
   "cell_type": "code",
   "execution_count": 101,
   "id": "db6a2c68",
   "metadata": {},
   "outputs": [
    {
     "name": "stdout",
     "output_type": "stream",
     "text": [
      "1\n",
      "2\n",
      "3\n",
      "4\n",
      "5\n",
      "6\n",
      "7\n",
      "8\n",
      "9\n"
     ]
    }
   ],
   "source": [
    "for row in arr13:\n",
    "    for i in row:\n",
    "        print(i)  #for loops to print each scalar or individual elements"
   ]
  },
  {
   "cell_type": "code",
   "execution_count": 102,
   "id": "09a491da",
   "metadata": {},
   "outputs": [
    {
     "name": "stdout",
     "output_type": "stream",
     "text": [
      "[[list([1, 2]) list([3, 4, 5]) list([6, 7, 8, 9])]\n",
      " [list([1, 3]) list([2, 4, 5]) list([4, 5, 6, 7])]\n",
      " [list([2, 3]) list([4, 5, 6]) list([4, 5, 6, 7])]]\n"
     ]
    },
    {
     "name": "stderr",
     "output_type": "stream",
     "text": [
      "C:\\Users\\ANIKET KUMAR\\AppData\\Local\\Temp\\ipykernel_18032\\4014758674.py:1: VisibleDeprecationWarning: Creating an ndarray from ragged nested sequences (which is a list-or-tuple of lists-or-tuples-or ndarrays with different lengths or shapes) is deprecated. If you meant to do this, you must specify 'dtype=object' when creating the ndarray.\n",
      "  arr14=np.array([[[1,2,],[3,4,5],[6,7,8,9]],[[1,3],[2,4,5],[4,5,6,7]],[[2,3],[4,5,6],[4,5,6,7]]])\n"
     ]
    }
   ],
   "source": [
    "arr14=np.array([[[1,2,],[3,4,5],[6,7,8,9]],[[1,3],[2,4,5],[4,5,6,7]],[[2,3],[4,5,6],[4,5,6,7]]])\n",
    "print(arr14)"
   ]
  },
  {
   "cell_type": "code",
   "execution_count": 103,
   "id": "08d277c0",
   "metadata": {},
   "outputs": [
    {
     "name": "stdout",
     "output_type": "stream",
     "text": [
      "[[9.97022310e-312 2.81617418e-322 0.00000000e+000 0.00000000e+000]\n",
      " [1.20953760e-312 3.69776220e-062 4.51136903e-090 1.08533659e-042]\n",
      " [1.52451998e-052 1.10633317e+165 6.48224659e+170 4.93432906e+257]]\n"
     ]
    }
   ],
   "source": [
    "import numpy\n",
    "import numpy.matlib as nm\n",
    "print(nm.empty((3,4)))  #It is used to return a matrix with the uninitialized entries\n"
   ]
  },
  {
   "cell_type": "code",
   "execution_count": 104,
   "id": "8e429a77",
   "metadata": {},
   "outputs": [
    {
     "name": "stdout",
     "output_type": "stream",
     "text": [
      "[[0. 0. 0.]\n",
      " [0. 0. 0.]\n",
      " [0. 0. 0.]]\n"
     ]
    }
   ],
   "source": [
    "print(nm.zeros((3,3)))  # Creates a matrix where the entries are initialized to zero"
   ]
  },
  {
   "cell_type": "code",
   "execution_count": 105,
   "id": "22c94e9e",
   "metadata": {
    "scrolled": false
   },
   "outputs": [
    {
     "name": "stdout",
     "output_type": "stream",
     "text": [
      "[[1. 1. 1.]\n",
      " [1. 1. 1.]\n",
      " [1. 1. 1.]]\n"
     ]
    }
   ],
   "source": [
    "print(nm.ones((3,3)))  # Creates a matrix where the entries are initialized to one"
   ]
  }
 ],
 "metadata": {
  "kernelspec": {
   "display_name": "Python 3 (ipykernel)",
   "language": "python",
   "name": "python3"
  },
  "language_info": {
   "codemirror_mode": {
    "name": "ipython",
    "version": 3
   },
   "file_extension": ".py",
   "mimetype": "text/x-python",
   "name": "python",
   "nbconvert_exporter": "python",
   "pygments_lexer": "ipython3",
   "version": "3.9.13"
  }
 },
 "nbformat": 4,
 "nbformat_minor": 5
}
